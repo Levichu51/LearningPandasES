{
 "cells": [
  {
   "cell_type": "code",
   "execution_count": 2,
   "metadata": {},
   "outputs": [],
   "source": [
    "import pandas as pd \n",
    "import numpy as np "
   ]
  },
  {
   "cell_type": "code",
   "execution_count": 3,
   "metadata": {},
   "outputs": [
    {
     "name": "stdout",
     "output_type": "stream",
     "text": [
      "   Nombre  GarimbasTomadas\n",
      "0   Chuvi              1.0\n",
      "1     Mrk              2.0\n",
      "2  Manolo              NaN\n",
      "\n",
      "\n",
      "<class 'pandas.core.frame.DataFrame'>\n",
      "RangeIndex: 3 entries, 0 to 2\n",
      "Data columns (total 2 columns):\n",
      " #   Column           Non-Null Count  Dtype  \n",
      "---  ------           --------------  -----  \n",
      " 0   Nombre           3 non-null      object \n",
      " 1   GarimbasTomadas  2 non-null      float64\n",
      "dtypes: float64(1), object(1)\n",
      "memory usage: 180.0+ bytes\n",
      "None\n",
      "\n",
      "\n",
      "       GarimbasTomadas\n",
      "count         2.000000\n",
      "mean          1.500000\n",
      "std           0.707107\n",
      "min           1.000000\n",
      "25%           1.250000\n",
      "50%           1.500000\n",
      "75%           1.750000\n",
      "max           2.000000\n",
      "\n",
      "\n"
     ]
    },
    {
     "data": {
      "text/html": [
       "<div>\n",
       "<style scoped>\n",
       "    .dataframe tbody tr th:only-of-type {\n",
       "        vertical-align: middle;\n",
       "    }\n",
       "\n",
       "    .dataframe tbody tr th {\n",
       "        vertical-align: top;\n",
       "    }\n",
       "\n",
       "    .dataframe thead th {\n",
       "        text-align: right;\n",
       "    }\n",
       "</style>\n",
       "<table border=\"1\" class=\"dataframe\">\n",
       "  <thead>\n",
       "    <tr style=\"text-align: right;\">\n",
       "      <th></th>\n",
       "      <th>Nombre</th>\n",
       "      <th>GarimbasTomadas</th>\n",
       "    </tr>\n",
       "  </thead>\n",
       "  <tbody>\n",
       "    <tr>\n",
       "      <th>0</th>\n",
       "      <td>Chuvi</td>\n",
       "      <td>1.0</td>\n",
       "    </tr>\n",
       "    <tr>\n",
       "      <th>1</th>\n",
       "      <td>Mrk</td>\n",
       "      <td>2.0</td>\n",
       "    </tr>\n",
       "    <tr>\n",
       "      <th>2</th>\n",
       "      <td>Manolo</td>\n",
       "      <td>NaN</td>\n",
       "    </tr>\n",
       "  </tbody>\n",
       "</table>\n",
       "</div>"
      ],
      "text/plain": [
       "   Nombre  GarimbasTomadas\n",
       "0   Chuvi              1.0\n",
       "1     Mrk              2.0\n",
       "2  Manolo              NaN"
      ]
     },
     "execution_count": 3,
     "metadata": {},
     "output_type": "execute_result"
    }
   ],
   "source": [
    "#Un DataFrame es una estructura de datos con dos dimensiones \n",
    "#en la cual se puede guardar datos de distintos tipos (como caractéres, enteros, valores de punto flotante, factores y más) en columnas.\n",
    "\n",
    "datos = {'Nombre': ['Chuvi', 'Mrk', 'Manolo'], 'GarimbasTomadas': [1, 2, np.nan]}\n",
    "\n",
    "dataframe = pd.DataFrame(datos)\n",
    "\n",
    "print(dataframe)\n",
    "\n",
    "print('\\n')\n",
    "\n",
    "#Info del dataframe (tipos etc)\n",
    "print(dataframe.info())\n",
    "\n",
    "print('\\n')\n",
    "\n",
    "#Estadísticas básicas\n",
    "print(dataframe.describe())\n",
    "\n",
    "print('\\n')\n",
    "\n",
    "#Verison más gráfica del dataframe\n",
    "dataframe"
   ]
  },
  {
   "cell_type": "code",
   "execution_count": 4,
   "metadata": {},
   "outputs": [
    {
     "name": "stdout",
     "output_type": "stream",
     "text": [
      "0     21.8\n",
      "1     89.0\n",
      "2     12.4\n",
      "3     56.8\n",
      "4    123.4\n",
      "Name: Horas gastadas en videojuegos, dtype: float64\n"
     ]
    },
    {
     "data": {
      "text/plain": [
       "Dark Souls         21.8\n",
       "The Last Of Us     89.0\n",
       "FIFA 24            12.4\n",
       "God Of War         56.8\n",
       "F1 24             123.4\n",
       "Name: Horas en videojuegos, dtype: float64"
      ]
     },
     "execution_count": 4,
     "metadata": {},
     "output_type": "execute_result"
    }
   ],
   "source": [
    "#Series: es por así decirlo una columna de la tabla del dataframe \n",
    "#De ejemplo usaremos una series de horas gastadas en cada videojuego\n",
    "\n",
    "hours = pd.Series([21.8, 89.0, 12.4, 56.8, 123.4])\n",
    "\n",
    "#El tipo\n",
    "hours\n",
    "\n",
    "#Nombre de la Serie\n",
    "hours.name = 'Horas gastadas en videojuegos'\n",
    "\n",
    "print(hours)\n",
    "\n",
    "hours.dtype\n",
    "\n",
    "#Las series son como arrays\n",
    "hours.values\n",
    "hours[0]\n",
    "\n",
    "#Informacion del array e indexación de valores a cada valor de la Series\n",
    "hours.index\n",
    "\n",
    "hours.index = [\n",
    "    'Dark Souls',\n",
    "    'The Last Of Us',\n",
    "    'FIFA 24',\n",
    "    'God Of War',\n",
    "    'F1 24',\n",
    "]\n",
    "\n",
    "hours\n",
    "\n",
    "#Otras maneras\n",
    "pd.Series({\n",
    "    'Dark Souls': 21.8,\n",
    "    'The Last Of Us': 89.0,\n",
    "    'FIFA 24': 12.4,\n",
    "    'God Of War': 56.8,\n",
    "    'F1 24': 123.4,\n",
    "}, name = 'Horas en videojuegos')\n",
    "\n",
    "#hours['Dark Souls', 'FIFA 24'] enseña sus horas\n",
    "#hours.iloc[[0, 1]]\n",
    "#hours.iloc[-1] empieza por el final"
   ]
  },
  {
   "cell_type": "code",
   "execution_count": 32,
   "metadata": {},
   "outputs": [
    {
     "name": "stdout",
     "output_type": "stream",
     "text": [
      "FIFA 24       12.4\n",
      "Torrente 2     NaN\n",
      "GTA IV         NaN\n",
      "Name: Horas gastadas en videojuegos, dtype: float64\n",
      "\n",
      "\n",
      "The Last Of Us    89.0\n",
      "FIFA 24           12.4\n",
      "God Of War        56.8\n",
      "Name: Horas gastadas en videojuegos, dtype: float64\n"
     ]
    }
   ],
   "source": [
    "#Serie con una serie\n",
    "newSeries = pd.Series(hours, index = ['FIFA 24', 'Torrente 2', 'GTA IV'])\n",
    "\n",
    "print(newSeries)\n",
    "\n",
    "#Slice de las series\n",
    "limitHours = hours['The Last Of Us' : 'God Of War']\n",
    "\n",
    "print('\\n')\n",
    "\n",
    "print(limitHours)"
   ]
  },
  {
   "cell_type": "code",
   "execution_count": 50,
   "metadata": {},
   "outputs": [
    {
     "name": "stdout",
     "output_type": "stream",
     "text": [
      "Dark Souls        False\n",
      "The Last Of Us     True\n",
      "FIFA 24           False\n",
      "God Of War         True\n",
      "F1 24              True\n",
      "Name: Horas gastadas en videojuegos, dtype: bool\n",
      "\n",
      "\n",
      "F1 24    123.4\n",
      "Name: Horas gastadas en videojuegos, dtype: float64\n",
      "\n",
      "\n",
      "La media de horas:  60.67999999999999\n",
      "The Last Of Us     89.0\n",
      "F1 24             123.4\n",
      "Name: Horas gastadas en videojuegos, dtype: float64\n",
      "Dark Souls        21.8\n",
      "The Last Of Us    89.0\n",
      "God Of War        56.8\n",
      "Name: Horas gastadas en videojuegos, dtype: float64\n",
      "Media de TLOU a GOW:  52.73333333333333\n",
      "Media de TLOU y GOW: 72.9\n",
      "\n",
      "\n"
     ]
    },
    {
     "data": {
      "text/plain": [
       "46.35053397750667"
      ]
     },
     "execution_count": 50,
     "metadata": {},
     "output_type": "execute_result"
    }
   ],
   "source": [
    "#Booleanos para filtrar \n",
    "print(hours > 45)\n",
    "\n",
    "print('\\n')\n",
    "\n",
    "print(hours[hours > 120])\n",
    "\n",
    "print('\\n')\n",
    "\n",
    "#La media\n",
    "print('La media de horas: ', hours.mean())\n",
    "\n",
    "print(hours[hours > hours.mean()])\n",
    "\n",
    "print(hours[(hours > 20) & (hours < 120)])\n",
    "\n",
    "print('Media de TLOU a GOW: ', hours['The Last Of Us' : 'God Of War'].mean())\n",
    "print('Media de TLOU y GOW:', hours.loc[['The Last Of Us', 'God Of War']].mean())\n",
    "\n",
    "\n",
    "print('\\n')\n",
    "\n",
    "#Desviación\n",
    "hours.std()"
   ]
  },
  {
   "cell_type": "code",
   "execution_count": 54,
   "metadata": {},
   "outputs": [
    {
     "name": "stdout",
     "output_type": "stream",
     "text": [
      "Dark Souls        9042.0\n",
      "The Last Of Us    5340.0\n",
      "FIFA 24            744.0\n",
      "God Of War        3408.0\n",
      "F1 24             7404.0\n",
      "Name: Horas gastadas en videojuegos, dtype: float64\n",
      "\n",
      "\n",
      "Dark Souls        150.7\n",
      "The Last Of Us     89.0\n",
      "FIFA 24            12.4\n",
      "God Of War         56.8\n",
      "F1 24             123.4\n",
      "Name: Horas gastadas en videojuegos, dtype: float64\n"
     ]
    }
   ],
   "source": [
    "#Modificando Series\n",
    "print(hours * 60)\n",
    "\n",
    "print('\\n')\n",
    "\n",
    "hours['Dark Souls'] = 150.7\n",
    "\n",
    "print(hours)"
   ]
  }
 ],
 "metadata": {
  "kernelspec": {
   "display_name": "Python 3",
   "language": "python",
   "name": "python3"
  },
  "language_info": {
   "codemirror_mode": {
    "name": "ipython",
    "version": 3
   },
   "file_extension": ".py",
   "mimetype": "text/x-python",
   "name": "python",
   "nbconvert_exporter": "python",
   "pygments_lexer": "ipython3",
   "version": "3.11.8"
  }
 },
 "nbformat": 4,
 "nbformat_minor": 2
}
